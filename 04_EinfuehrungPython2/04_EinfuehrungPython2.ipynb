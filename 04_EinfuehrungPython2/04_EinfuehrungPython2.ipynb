{
 "cells": [
  {
   "cell_type": "markdown",
   "metadata": {},
   "source": [
    "<div style=\"width:image width px; font-size:75%; text-align:right;\">\n",
    "    <img src=\"img/code_chris-ried_unsplash.jpg\" width=\"width\" height=\"height\" style=\"padding-bottom:0.2em;\" />\n",
    "    <figcaption>Photo by Chris Ried on Unsplash</figcaption>\n",
    "</div>"
   ]
  },
  {
   "cell_type": "markdown",
   "metadata": {},
   "source": [
    "# Introduction to Python\n",
    "\n",
    "**Applied Programming - Summer term 2020 - FOM Hochschule für Oekonomie und Management - Cologne**\n",
    "\n",
    "**Lecture 04 - March 27, 2021**"
   ]
  },
  {
   "cell_type": "markdown",
   "metadata": {},
   "source": [
    "*Dennis Gluesenkamp*"
   ]
  },
  {
   "cell_type": "markdown",
   "metadata": {},
   "source": [
    "### Table of contents\n",
    "* [Recap](#recap)\n",
    "* [Loops](#loops)\n",
    "* [Collections](#collections)\n",
    "    * [Lists](#lists)\n",
    "    * [Tuples](#tuples)\n",
    "    * [Sets](#sets)\n",
    "    * [Dictionaries](#dictionaries)\n",
    "* [Modules](#modules)\n",
    "* [Packages](#packages)\n",
    "* [Versioning with git and GitHub](#versioning)\n",
    "    * [Basic aspects of version control](#versioning_basics)\n",
    "    * [Commands for git and GitHub usage](#versioning_commands)\n",
    "* [References](#references)"
   ]
  },
  {
   "cell_type": "markdown",
   "metadata": {},
   "source": [
    "### Recap<a class=\"anchor\" id=\"recap\"></a>\n",
    "\n",
    "To briefly repeat what you learned in the previous lecture, please answer the following questions or write the Python code according to the instructions\n",
    "1. Write your solutions under this cell by creating more new cells. Introduce the solutions with a header of the fourth level.\n",
    "2. What is the function which can determine that 'foo' is a string and 3.1415 is a floating number?\n",
    "3. What is the difference between an expression and a statement?\n",
    "4. What is the problem with the following statement? Correct the code so that it is runnable.\n",
    "```python\n",
    "12monkeys = 'film'\n",
    "result = 3 * 12monkeys\n",
    "print(result)\n",
    "```\n",
    "5. What are the basic types/property of packages and modules?\n",
    "6. Calculate the quotient of 11 (dividend) and 7 (divisor) and round the result to four decimal places.\n",
    "7. Create/define a custom function with three arguments that does the following: sum of the first and second argument, modulo third argument, and returns the result as a floating number. Set a default value of 2 for the third argument."
   ]
  },
  {
   "cell_type": "markdown",
   "metadata": {},
   "source": [
    "#### Solutions:\n"
   ]
  },
  {
   "cell_type": "code",
   "execution_count": 3,
   "metadata": {},
   "outputs": [
    {
     "name": "stdout",
     "output_type": "stream",
     "text": [
      "<class 'str'>\n",
      "<class 'float'>\n"
     ]
    }
   ],
   "source": [
    "print(type('foo'))\n",
    "print(type(3.1415))\n"
   ]
  },
  {
   "cell_type": "code",
   "execution_count": 6,
   "metadata": {},
   "outputs": [],
   "source": [
    "#Expression\n",
    "4+2\n",
    "#statement\n",
    "d = 4"
   ]
  },
  {
   "cell_type": "code",
   "execution_count": 12,
   "metadata": {},
   "outputs": [
    {
     "name": "stdout",
     "output_type": "stream",
     "text": [
      "filmfilmfilm\n"
     ]
    }
   ],
   "source": [
    "monkeys = 'film'  #12 wurde enfernt\n",
    "result = 3 * monkeys\n",
    "print(result)\n"
   ]
  },
  {
   "cell_type": "markdown",
   "metadata": {},
   "source": [
    "#Module\n",
    "ein einziges File\n",
    "#Packages\n",
    "besteht aus mehreren Modulen \n",
    "packages enthalten ein __init__.py pro file\n",
    "\n",
    "Beachten Sie jedoch, dass beim Importieren eines Pakets nur Variablen / Funktionen / Klassen \n",
    "in der Datei __init__.py dieses Pakets direkt sichtbar sind"
   ]
  },
  {
   "cell_type": "code",
   "execution_count": 9,
   "metadata": {},
   "outputs": [
    {
     "data": {
      "text/plain": [
       "1.5714"
      ]
     },
     "execution_count": 9,
     "metadata": {},
     "output_type": "execute_result"
    }
   ],
   "source": [
    " round(11/7,4)\n",
    "    "
   ]
  },
  {
   "cell_type": "code",
   "execution_count": 16,
   "metadata": {},
   "outputs": [
    {
     "name": "stdout",
     "output_type": "stream",
     "text": [
      "2.0\n"
     ]
    }
   ],
   "source": [
    "def test(a,b,c):\n",
    "    return(a+b%c)\n",
    "print(float(test(2,3,3)))"
   ]
  },
  {
   "cell_type": "markdown",
   "metadata": {},
   "source": [
    "### Loops<a class=\"anchor\" id=\"loops\"></a>\n",
    "In the last lecture the ``if`` statement was shown as a possible element for programming conditions. Another typical element for the implementation of execution sequences in code are loops. The two possibilities ``while`` and ``for`` in Python will be shown here. [[1]](#downey2015)"
   ]
  },
  {
   "cell_type": "code",
   "execution_count": null,
   "metadata": {},
   "outputs": [],
   "source": [
    "def countdown(n = 10):\n",
    "    while n > 0:\n",
    "        print(n)\n",
    "        n = n-1\n",
    "    print('Lift off!')"
   ]
  },
  {
   "cell_type": "code",
   "execution_count": null,
   "metadata": {},
   "outputs": [],
   "source": [
    "countdown()"
   ]
  },
  {
   "cell_type": "markdown",
   "metadata": {},
   "source": [
    "With the while loop it is important to do the programming carefully. The variable of the test condition should change so that the loop does not run infinitely  [[1]](#downey2015).\n",
    "\n",
    "The ``for`` loop in Python works more like an iterator than typically found in other programming languages where it loops through a set of code for a certain number. Of course the following loop is correct and functional:"
   ]
  },
  {
   "cell_type": "code",
   "execution_count": 27,
   "metadata": {},
   "outputs": [],
   "source": [
    "def countup(n = 10):\n",
    "    for i in range(n):\n",
    "        print(i+1)\n",
    "    print('Finished!')"
   ]
  },
  {
   "cell_type": "code",
   "execution_count": 28,
   "metadata": {},
   "outputs": [
    {
     "name": "stdout",
     "output_type": "stream",
     "text": [
      "1\n",
      "2\n",
      "3\n",
      "4\n",
      "5\n",
      "6\n",
      "7\n",
      "8\n",
      "9\n",
      "10\n",
      "Finished!\n"
     ]
    }
   ],
   "source": [
    "countup()"
   ]
  },
  {
   "cell_type": "markdown",
   "metadata": {},
   "source": [
    "However, you can also (and not only) iterate over the elements of lists:"
   ]
  },
  {
   "cell_type": "code",
   "execution_count": 29,
   "metadata": {},
   "outputs": [
    {
     "name": "stdout",
     "output_type": "stream",
     "text": [
      "A1\n",
      "B2\n",
      "C3\n"
     ]
    }
   ],
   "source": [
    "for i in ['A1', 'B2', 'C3']:\n",
    "    print(i)"
   ]
  },
  {
   "cell_type": "markdown",
   "metadata": {},
   "source": [
    "Or even strings:"
   ]
  },
  {
   "cell_type": "code",
   "execution_count": 30,
   "metadata": {},
   "outputs": [
    {
     "name": "stdout",
     "output_type": "stream",
     "text": [
      "L\n",
      "o\n",
      "r\n",
      "e\n",
      "m\n",
      "I\n",
      "p\n",
      "s\n",
      "u\n",
      "m\n"
     ]
    }
   ],
   "source": [
    "for i in 'LoremIpsum':\n",
    "    print(i)"
   ]
  },
  {
   "cell_type": "markdown",
   "metadata": {},
   "source": [
    "##### Exercises\n",
    "1. Define a header for a function called ``get_types``, which takes a list as argument.\n",
    "2. In the body of the function, add the functionality to iterate across the elements of that list and print out the type of each element.\n",
    "3. Test your function with the list ``test_list``, defined below."
   ]
  },
  {
   "cell_type": "code",
   "execution_count": 21,
   "metadata": {},
   "outputs": [],
   "source": [
    "test_list = ['Element', 4.321, '4.321', 4, 3, 2, 1.0]"
   ]
  },
  {
   "cell_type": "code",
   "execution_count": 25,
   "metadata": {},
   "outputs": [],
   "source": [
    "def get_types(List: list):\n",
    "    for item in List:\n",
    "        print(type(item))"
   ]
  },
  {
   "cell_type": "code",
   "execution_count": 26,
   "metadata": {},
   "outputs": [
    {
     "name": "stdout",
     "output_type": "stream",
     "text": [
      "<class 'str'>\n",
      "<class 'float'>\n",
      "<class 'str'>\n",
      "<class 'int'>\n",
      "<class 'int'>\n",
      "<class 'int'>\n",
      "<class 'float'>\n"
     ]
    }
   ],
   "source": [
    "get_types(test_list)"
   ]
  },
  {
   "cell_type": "markdown",
   "metadata": {},
   "source": [
    "### Collections<a class=\"anchor\" id=\"collections\"></a>\n",
    "Python implements four types of data containers for general purposes which are called containers [[2]](#python2020a). These are [[3]](#w3schools2020):\n",
    "* **List** is a collection which is *ordered* and *changeable*. Allows *duplicate members*.\n",
    "* **Tuple** is a collection which is *ordered* and *unchangeable*. Allows *duplicate members*.\n",
    "* **Set** is a collection which is *unordered* and *unindexed*. *No duplicate* members.\n",
    "* **Dictionary** is a collection which is *unordered*, *changeable* and *indexed*. *No duplicate* members.\n",
    "\n",
    "The property that elements of a collection can respectively cannot be changed is called mutable respectively immutable. If you want to go deeper into this topic, the article by Megha Mohan [[4]](#mohan2017) is recommended."
   ]
  },
  {
   "cell_type": "markdown",
   "metadata": {},
   "source": [
    "#### Lists<a class=\"anchor\" id=\"lists\"></a>\n",
    "A list is a sequence of values, so it is ordered. The values of such a list are called items or elements and can be of any type. By the index you can access the items. Indices in Python start with 0. With negative indices the elements can be accessed backwards, so starting at the end of the list."
   ]
  },
  {
   "cell_type": "code",
   "execution_count": 31,
   "metadata": {},
   "outputs": [
    {
     "data": {
      "text/plain": [
       "list"
      ]
     },
     "execution_count": 31,
     "metadata": {},
     "output_type": "execute_result"
    }
   ],
   "source": [
    "listA = ['Mother', 'Father', 'Daughter', 'Son']\n",
    "type(listA)"
   ]
  },
  {
   "cell_type": "code",
   "execution_count": 32,
   "metadata": {},
   "outputs": [
    {
     "data": {
      "text/plain": [
       "'Father'"
      ]
     },
     "execution_count": 32,
     "metadata": {},
     "output_type": "execute_result"
    }
   ],
   "source": [
    "listA[1]"
   ]
  },
  {
   "cell_type": "code",
   "execution_count": 33,
   "metadata": {},
   "outputs": [
    {
     "data": {
      "text/plain": [
       "['Father', 'Daughter', 'Son']"
      ]
     },
     "execution_count": 33,
     "metadata": {},
     "output_type": "execute_result"
    }
   ],
   "source": [
    "listA[1:4]"
   ]
  },
  {
   "cell_type": "code",
   "execution_count": 34,
   "metadata": {},
   "outputs": [
    {
     "data": {
      "text/plain": [
       "['Daughter', 'Son']"
      ]
     },
     "execution_count": 34,
     "metadata": {},
     "output_type": "execute_result"
    }
   ],
   "source": [
    "listA[2:]"
   ]
  },
  {
   "cell_type": "code",
   "execution_count": 35,
   "metadata": {},
   "outputs": [
    {
     "data": {
      "text/plain": [
       "'Daughter'"
      ]
     },
     "execution_count": 35,
     "metadata": {},
     "output_type": "execute_result"
    }
   ],
   "source": [
    "listA[-2]"
   ]
  },
  {
   "cell_type": "code",
   "execution_count": 36,
   "metadata": {},
   "outputs": [
    {
     "data": {
      "text/plain": [
       "['Mother', 'Father']"
      ]
     },
     "execution_count": 36,
     "metadata": {},
     "output_type": "execute_result"
    }
   ],
   "source": [
    "listA[-6:-2]"
   ]
  },
  {
   "cell_type": "code",
   "execution_count": 37,
   "metadata": {},
   "outputs": [
    {
     "data": {
      "text/plain": [
       "['Mother', 'Father', 'Daughter', 'Son', 'Grandma']"
      ]
     },
     "execution_count": 37,
     "metadata": {},
     "output_type": "execute_result"
    }
   ],
   "source": [
    "# Append additional elements to the list\n",
    "listA.append('Grandma')\n",
    "listA"
   ]
  },
  {
   "cell_type": "code",
   "execution_count": 38,
   "metadata": {},
   "outputs": [
    {
     "data": {
      "text/plain": [
       "['Mother', 'Father', 'Daughter', 'Son', 'Grandpa', 'Grandma']"
      ]
     },
     "execution_count": 38,
     "metadata": {},
     "output_type": "execute_result"
    }
   ],
   "source": [
    "# Insert elements at a specific position\n",
    "listA.insert(4, \"Grandpa\")\n",
    "listA"
   ]
  },
  {
   "cell_type": "code",
   "execution_count": 39,
   "metadata": {},
   "outputs": [
    {
     "data": {
      "text/plain": [
       "['Mother', 'Father', 'Daughter', 'Son', 'Grandpa', 'Baby']"
      ]
     },
     "execution_count": 39,
     "metadata": {},
     "output_type": "execute_result"
    }
   ],
   "source": [
    "# Change elements in the list, because lists are mutable\n",
    "listA[5] = 'Baby'\n",
    "listA"
   ]
  },
  {
   "cell_type": "code",
   "execution_count": 40,
   "metadata": {},
   "outputs": [
    {
     "data": {
      "text/plain": [
       "['Mother', 'Father', 'Daughter', 'Son', 'Baby']"
      ]
     },
     "execution_count": 40,
     "metadata": {},
     "output_type": "execute_result"
    }
   ],
   "source": [
    "# Remove an element by value\n",
    "listA.remove('Grandpa')\n",
    "listA"
   ]
  },
  {
   "cell_type": "code",
   "execution_count": 41,
   "metadata": {},
   "outputs": [
    {
     "data": {
      "text/plain": [
       "['Mother', 'Father', 'Son', 'Baby']"
      ]
     },
     "execution_count": 41,
     "metadata": {},
     "output_type": "execute_result"
    }
   ],
   "source": [
    "# Remove an element by index (default is last element)\n",
    "listA.pop(2)\n",
    "listA"
   ]
  },
  {
   "cell_type": "markdown",
   "metadata": {},
   "source": [
    "##### Exercises\n",
    "1. Create a list of five fruits and variable name of your choice.\n",
    "2. Make a copy of that list, so that the upcoming change in task 3 doesn't change the copy of your list. How can you do this? Explain in this context what a reference to an object is. (You may have to do some research on the Internet to find the solution.)\n",
    "3. Remove the third element by index.\n",
    "4. Join/concatenate your original list and the copy. There are multiple ways for this task."
   ]
  },
  {
   "cell_type": "code",
   "execution_count": 57,
   "metadata": {},
   "outputs": [],
   "source": [
    "fruits = ['apple','banana','pineapple','orange','lemon']"
   ]
  },
  {
   "cell_type": "code",
   "execution_count": 80,
   "metadata": {},
   "outputs": [],
   "source": [
    "new_fruits = fruits.copy()"
   ]
  },
  {
   "cell_type": "code",
   "execution_count": 81,
   "metadata": {},
   "outputs": [
    {
     "data": {
      "text/plain": [
       "'pineapple'"
      ]
     },
     "execution_count": 81,
     "metadata": {},
     "output_type": "execute_result"
    }
   ],
   "source": [
    "new_fruits.pop(2)"
   ]
  },
  {
   "cell_type": "code",
   "execution_count": 74,
   "metadata": {},
   "outputs": [],
   "source": []
  },
  {
   "cell_type": "code",
   "execution_count": 82,
   "metadata": {},
   "outputs": [],
   "source": [
    "neue_liste = list(set(fruits + new_fruits))\n"
   ]
  },
  {
   "cell_type": "code",
   "execution_count": 83,
   "metadata": {},
   "outputs": [
    {
     "name": "stdout",
     "output_type": "stream",
     "text": [
      "['apple', 'banana', 'lemon', 'pineapple', 'orange']\n"
     ]
    }
   ],
   "source": [
    "print(neue_liste)"
   ]
  },
  {
   "cell_type": "markdown",
   "metadata": {},
   "source": [
    "#### Tuples<a class=\"anchor\" id=\"tuples\"></a>\n",
    "The striking difference to lists is that tuples are not changeable - in other words *immutable*. However, their elements are also ordered by indices."
   ]
  },
  {
   "cell_type": "code",
   "execution_count": 68,
   "metadata": {},
   "outputs": [
    {
     "data": {
      "text/plain": [
       "tuple"
      ]
     },
     "execution_count": 68,
     "metadata": {},
     "output_type": "execute_result"
    }
   ],
   "source": [
    "tupleA = ('Mother', 'Father', 'Daughter', 'Son')\n",
    "type(tupleA)"
   ]
  },
  {
   "cell_type": "code",
   "execution_count": 69,
   "metadata": {},
   "outputs": [
    {
     "data": {
      "text/plain": [
       "('Father', 'Daughter', 'Son')"
      ]
     },
     "execution_count": 69,
     "metadata": {},
     "output_type": "execute_result"
    }
   ],
   "source": [
    "tupleA[1:4]"
   ]
  },
  {
   "cell_type": "code",
   "execution_count": 70,
   "metadata": {},
   "outputs": [
    {
     "data": {
      "text/plain": [
       "('Mother', 'Father')"
      ]
     },
     "execution_count": 70,
     "metadata": {},
     "output_type": "execute_result"
    }
   ],
   "source": [
    "tupleA[-4:-2]"
   ]
  },
  {
   "cell_type": "code",
   "execution_count": 71,
   "metadata": {},
   "outputs": [
    {
     "ename": "TypeError",
     "evalue": "'tuple' object does not support item assignment",
     "output_type": "error",
     "traceback": [
      "\u001b[1;31m---------------------------------------------------------------------------\u001b[0m",
      "\u001b[1;31mTypeError\u001b[0m                                 Traceback (most recent call last)",
      "\u001b[1;32m<ipython-input-71-44eec2af8169>\u001b[0m in \u001b[0;36m<module>\u001b[1;34m\u001b[0m\n\u001b[0;32m      1\u001b[0m \u001b[1;31m# Elements of the tuple, resp. the tuple as a whole is immutable\u001b[0m\u001b[1;33m\u001b[0m\u001b[1;33m\u001b[0m\u001b[1;33m\u001b[0m\u001b[0m\n\u001b[1;32m----> 2\u001b[1;33m \u001b[0mtupleA\u001b[0m\u001b[1;33m[\u001b[0m\u001b[1;36m1\u001b[0m\u001b[1;33m]\u001b[0m \u001b[1;33m=\u001b[0m \u001b[1;34m'Men'\u001b[0m\u001b[1;33m\u001b[0m\u001b[1;33m\u001b[0m\u001b[0m\n\u001b[0m",
      "\u001b[1;31mTypeError\u001b[0m: 'tuple' object does not support item assignment"
     ]
    }
   ],
   "source": [
    "# Elements of the tuple, resp. the tuple as a whole is immutable\n",
    "tupleA[1] = 'Men'"
   ]
  },
  {
   "cell_type": "markdown",
   "metadata": {},
   "source": [
    "##### Exercises\n",
    "1. Create a tuple of five car manufacturers and variable name of your choice.\n",
    "2. Iterate through the tuple with a ``for`` loop and print the current manufacturer name in each loop iteration."
   ]
  },
  {
   "cell_type": "code",
   "execution_count": 72,
   "metadata": {},
   "outputs": [
    {
     "name": "stdout",
     "output_type": "stream",
     "text": [
      "mercedes\n",
      "tesla\n",
      "audi\n",
      "ferrari\n"
     ]
    }
   ],
   "source": [
    "autos = (\"mercedes\",\"tesla\",\"audi\",\"ferrari\")\n",
    "for item in autos:\n",
    "        print(item)"
   ]
  },
  {
   "cell_type": "markdown",
   "metadata": {},
   "source": [
    "#### Sets<a class=\"anchor\" id=\"sets\"></a>\n",
    "In contrast to tuples and lists, sets do not have an order and the elements do not have indices. However iteration is possible and you can check whether an element exists in the set. The sets are mutable, whereas Python offers also a specific type of immutable sets: ``frozenset`` [[5]](#python2020b)"
   ]
  },
  {
   "cell_type": "code",
   "execution_count": 84,
   "metadata": {},
   "outputs": [
    {
     "data": {
      "text/plain": [
       "set"
      ]
     },
     "execution_count": 84,
     "metadata": {},
     "output_type": "execute_result"
    }
   ],
   "source": [
    "setA = {'Mother', 'Father', 'Daughter', 'Son'}\n",
    "type(setA)"
   ]
  },
  {
   "cell_type": "code",
   "execution_count": 85,
   "metadata": {},
   "outputs": [
    {
     "ename": "TypeError",
     "evalue": "'set' object is not subscriptable",
     "output_type": "error",
     "traceback": [
      "\u001b[1;31m---------------------------------------------------------------------------\u001b[0m",
      "\u001b[1;31mTypeError\u001b[0m                                 Traceback (most recent call last)",
      "\u001b[1;32m<ipython-input-85-70138870688f>\u001b[0m in \u001b[0;36m<module>\u001b[1;34m\u001b[0m\n\u001b[0;32m      1\u001b[0m \u001b[1;31m# Elements doesn't have an index\u001b[0m\u001b[1;33m\u001b[0m\u001b[1;33m\u001b[0m\u001b[1;33m\u001b[0m\u001b[0m\n\u001b[1;32m----> 2\u001b[1;33m \u001b[0msetA\u001b[0m\u001b[1;33m[\u001b[0m\u001b[1;36m1\u001b[0m\u001b[1;33m]\u001b[0m\u001b[1;33m\u001b[0m\u001b[1;33m\u001b[0m\u001b[0m\n\u001b[0m",
      "\u001b[1;31mTypeError\u001b[0m: 'set' object is not subscriptable"
     ]
    }
   ],
   "source": [
    "# Elements doesn't have an index\n",
    "setA[1]"
   ]
  },
  {
   "cell_type": "code",
   "execution_count": 86,
   "metadata": {},
   "outputs": [
    {
     "name": "stdout",
     "output_type": "stream",
     "text": [
      "Mother\n",
      "Father\n",
      "Daughter\n",
      "Son\n"
     ]
    }
   ],
   "source": [
    "for element in setA:\n",
    "    print(element)"
   ]
  },
  {
   "cell_type": "code",
   "execution_count": 87,
   "metadata": {},
   "outputs": [
    {
     "data": {
      "text/plain": [
       "False"
      ]
     },
     "execution_count": 87,
     "metadata": {},
     "output_type": "execute_result"
    }
   ],
   "source": [
    "'Men' in setA"
   ]
  },
  {
   "cell_type": "code",
   "execution_count": 88,
   "metadata": {},
   "outputs": [
    {
     "data": {
      "text/plain": [
       "{'Daughter', 'Father', 'Grandma', 'Mother', 'Son'}"
      ]
     },
     "execution_count": 88,
     "metadata": {},
     "output_type": "execute_result"
    }
   ],
   "source": [
    "setA.add('Grandma')\n",
    "setA"
   ]
  },
  {
   "cell_type": "code",
   "execution_count": 89,
   "metadata": {},
   "outputs": [
    {
     "data": {
      "text/plain": [
       "{'Daughter', 'Father', 'Grandma', 'Mother', 'Son'}"
      ]
     },
     "execution_count": 89,
     "metadata": {},
     "output_type": "execute_result"
    }
   ],
   "source": [
    "# Adding duplicates isn't possible but without error\n",
    "setA.add('Father')\n",
    "setA"
   ]
  },
  {
   "cell_type": "code",
   "execution_count": 90,
   "metadata": {},
   "outputs": [
    {
     "data": {
      "text/plain": [
       "{'Daughter', 'Father', 'Mother', 'Son'}"
      ]
     },
     "execution_count": 90,
     "metadata": {},
     "output_type": "execute_result"
    }
   ],
   "source": [
    "setA.remove('Grandma')\n",
    "setA"
   ]
  },
  {
   "cell_type": "code",
   "execution_count": 91,
   "metadata": {},
   "outputs": [
    {
     "ename": "KeyError",
     "evalue": "'Grandma'",
     "output_type": "error",
     "traceback": [
      "\u001b[1;31m---------------------------------------------------------------------------\u001b[0m",
      "\u001b[1;31mKeyError\u001b[0m                                  Traceback (most recent call last)",
      "\u001b[1;32m<ipython-input-91-f9226daced89>\u001b[0m in \u001b[0;36m<module>\u001b[1;34m\u001b[0m\n\u001b[0;32m      1\u001b[0m \u001b[1;31m# Raises an error if element doesn't exist\u001b[0m\u001b[1;33m\u001b[0m\u001b[1;33m\u001b[0m\u001b[1;33m\u001b[0m\u001b[0m\n\u001b[1;32m----> 2\u001b[1;33m \u001b[0msetA\u001b[0m\u001b[1;33m.\u001b[0m\u001b[0mremove\u001b[0m\u001b[1;33m(\u001b[0m\u001b[1;34m'Grandma'\u001b[0m\u001b[1;33m)\u001b[0m\u001b[1;33m\u001b[0m\u001b[1;33m\u001b[0m\u001b[0m\n\u001b[0m",
      "\u001b[1;31mKeyError\u001b[0m: 'Grandma'"
     ]
    }
   ],
   "source": [
    "# Raises an error if element doesn't exist\n",
    "setA.remove('Grandma')"
   ]
  },
  {
   "cell_type": "code",
   "execution_count": 92,
   "metadata": {},
   "outputs": [],
   "source": [
    "# Different method for removing items without error raising\n",
    "setA.discard('Grandma')"
   ]
  },
  {
   "cell_type": "markdown",
   "metadata": {},
   "source": [
    "##### Exercises\n",
    "1. Create a set of five cities and variable name of your choice.\n",
    "2. Copy your set to a new variable and change two cities to other cities of your choice.\n",
    "3. Research and test the set-related method ``intersection()``.\n",
    "4. Which SQL-statement is equivalent to the ``intersection()`` method? Write the SQL-statement here in a Markdown cell by using appropriate syntax highlighting."
   ]
  },
  {
   "cell_type": "code",
   "execution_count": 93,
   "metadata": {},
   "outputs": [],
   "source": [
    "cities = {\"Berlin\",\"Hamburg\",\"Wien\",\"London\",\"New York\"}"
   ]
  },
  {
   "cell_type": "code",
   "execution_count": 96,
   "metadata": {},
   "outputs": [],
   "source": [
    "new_cities = cities.copy()\n",
    "new_cities.remove(\"Berlin\")\n",
    "new_cities.remove(\"London\")"
   ]
  },
  {
   "cell_type": "code",
   "execution_count": 100,
   "metadata": {},
   "outputs": [
    {
     "data": {
      "text/plain": [
       "{'Hamburg', 'New York', 'Wien'}"
      ]
     },
     "execution_count": 100,
     "metadata": {},
     "output_type": "execute_result"
    }
   ],
   "source": [
    "cities.intersection(new_cities)"
   ]
  },
  {
   "cell_type": "markdown",
   "metadata": {},
   "source": [
    "´´´ mysql\n",
    "SELECT * FROM cities\n",
    "INNER JOIN cities_copy\n",
    "ON...;\n",
    "´´´"
   ]
  },
  {
   "cell_type": "markdown",
   "metadata": {},
   "source": []
  },
  {
   "cell_type": "markdown",
   "metadata": {},
   "source": [
    "If you want to know more about the order in which sets are displayed, see [[6]](#aroutiounian2013)."
   ]
  },
  {
   "cell_type": "markdown",
   "metadata": {},
   "source": [
    "#### Dictionaries<a class=\"anchor\" id=\"dictionaries\"></a>\n",
    "Dictionaries consists of key-value-pairs which are unordered but the pairs have indices and can be changed - so dictionaries are *mutable*."
   ]
  },
  {
   "cell_type": "code",
   "execution_count": 103,
   "metadata": {},
   "outputs": [
    {
     "data": {
      "text/plain": [
       "{'mother': 'Mary', 'father': 'Pete', 'daughter': 'Daisy', 'son': 'Chuck'}"
      ]
     },
     "execution_count": 103,
     "metadata": {},
     "output_type": "execute_result"
    }
   ],
   "source": [
    "dictA = {\n",
    "    'mother': 'Mary',\n",
    "    'father': 'Pete',\n",
    "    'daughter': 'Daisy',\n",
    "    'son': 'Chuck'\n",
    "}\n",
    "dictA"
   ]
  },
  {
   "cell_type": "code",
   "execution_count": 104,
   "metadata": {},
   "outputs": [
    {
     "data": {
      "text/plain": [
       "'Mary'"
      ]
     },
     "execution_count": 104,
     "metadata": {},
     "output_type": "execute_result"
    }
   ],
   "source": [
    "# Access value by key, not vice versa\n",
    "dictA['mother']"
   ]
  },
  {
   "cell_type": "code",
   "execution_count": 105,
   "metadata": {},
   "outputs": [
    {
     "data": {
      "text/plain": [
       "'Pete'"
      ]
     },
     "execution_count": 105,
     "metadata": {},
     "output_type": "execute_result"
    }
   ],
   "source": [
    "dictA.get('father')"
   ]
  },
  {
   "cell_type": "code",
   "execution_count": 106,
   "metadata": {},
   "outputs": [
    {
     "data": {
      "text/plain": [
       "{'mother': 'Deanna', 'father': 'Pete', 'daughter': 'Daisy', 'son': 'Chuck'}"
      ]
     },
     "execution_count": 106,
     "metadata": {},
     "output_type": "execute_result"
    }
   ],
   "source": [
    "dictA['mother'] = 'Deanna'\n",
    "dictA"
   ]
  },
  {
   "cell_type": "markdown",
   "metadata": {},
   "source": [
    "### Modules<a class=\"anchor\" id=\"modules\"></a>\n",
    "Modules are one of the levels of abstraction in Python and technically nothing more than individual Python files (``*.py``). These files contain variables and functions that belong together in a certain sense and are therefore implemented or defined separately. [[7, p.61](#reitz2016); [8](#learnpython2020)]\n",
    "\n",
    "To create a module, it is therefore only necessary to write the desired code in a Python file. This file can then be integrated into the current project, for example a Jupyter Notebook, by calling ``import`` followed by the module name which is the file name. It is possible to assign a (abbreviated) name to the included module. This is done with the command ``as``."
   ]
  },
  {
   "cell_type": "markdown",
   "metadata": {},
   "source": [
    "The examplemodule, imported below, contains some example coordinates in 3-dimensional space. Furthermore it defines a function to calculate the euclidean distance between two points in 3-dimensional space, according to\n",
    "\n",
    "$d(x,y) = \\sqrt{\\left(x_1 - y_1\\right)^2 + \\left(x_2 - y_2\\right)^2 + \\left(x_3 - y_3\\right)^2}$"
   ]
  },
  {
   "cell_type": "code",
   "execution_count": 3,
   "metadata": {},
   "outputs": [],
   "source": [
    "import examplemodule as em"
   ]
  },
  {
   "cell_type": "code",
   "execution_count": 4,
   "metadata": {},
   "outputs": [
    {
     "data": {
      "text/plain": [
       "7.54983443527075"
      ]
     },
     "execution_count": 4,
     "metadata": {},
     "output_type": "execute_result"
    }
   ],
   "source": [
    "em.calcEuclideanDist([1, 1, 1], em.coord2)"
   ]
  },
  {
   "cell_type": "code",
   "execution_count": 7,
   "metadata": {
    "scrolled": true
   },
   "outputs": [
    {
     "name": "stdout",
     "output_type": "stream",
     "text": [
      "Help on function calcEuclideanDist in module examplemodule:\n",
      "\n",
      "calcEuclideanDist(c1, c2)\n",
      "    The examplemodule, imported below, contains some example coordinates in 3-dimensional space.\n",
      "    Furthermore it defines a function to calculate the euclidean distance between two points in 3-dimensional space, according to\n",
      "    \n",
      "    𝑑(𝑥,𝑦)=(𝑥1−𝑦1)^2+(𝑥2−𝑦2)^2+(𝑥3−𝑦3)^2\n",
      "\n"
     ]
    }
   ],
   "source": [
    "help(em.calcEuclideanDist)"
   ]
  },
  {
   "cell_type": "markdown",
   "metadata": {},
   "source": [
    "##### Exercises\n",
    "1. Add a docstring to the euclidean distance function in examplemodule.py, which explains the operating principle of the function.\n",
    "2. Re-import the module and check your docstring of the function via ``help(calcEuclideanDist)``."
   ]
  },
  {
   "cell_type": "markdown",
   "metadata": {},
   "source": [
    "### Packages<a class=\"anchor\" id=\"packages\"></a>\n",
    "If the complexity and the structure of a project makes it necessary to combine several modules to a superior unit, so-called packages can be created. These are folders that contain module files. The only special feature is the existence of a ``__init__.py`` in this folder, which contains overall definitions for the whole package. [[7, p.65](#reitz2016); [8](#learnpython2020)]\n",
    "\n",
    "A module of a package is included by the ``import`` command, preceded by the package name and separated from the module name by a period."
   ]
  },
  {
   "cell_type": "code",
   "execution_count": null,
   "metadata": {},
   "outputs": [],
   "source": [
    "import examplepackage.examplemodule as pem"
   ]
  },
  {
   "cell_type": "code",
   "execution_count": null,
   "metadata": {},
   "outputs": [],
   "source": [
    "help(pem)"
   ]
  },
  {
   "cell_type": "code",
   "execution_count": null,
   "metadata": {},
   "outputs": [],
   "source": [
    "pem.calcEuclideanDist(pem.coord1, [-1, -1, -1])"
   ]
  },
  {
   "cell_type": "markdown",
   "metadata": {},
   "source": [
    "### Versioning with git and GitHub<a class=\"anchor\" id=\"versioning\"></a>\n",
    "Now that we have learned about structuring code using modules and packages, an interlude on versioning with git and GitHub is a good idea. We will thus test and practice collaborative work on code components (to a limited extent)."
   ]
  },
  {
   "cell_type": "markdown",
   "metadata": {},
   "source": [
    "#### Basic aspects of version control<a class=\"anchor\" id=\"versioning_basics\"></a>\n",
    "Version control systems (VCS) are key in companies or environments which plan to or work on larger software development projects. Of course, this includes Data Science and Machine Learning cases also. A VCS allows you to track code changes and enables collaboration across teams and their members. What else is there to know about VCS:\n",
    "* Developers can work together, but decouple certain tasks through **branching**\n",
    "* The history of changes is maintained by the VCS\n",
    "* All code, branches, changes, and the history is managed and stored in a **repository**\n",
    "* VCS can operate locally, centralized or distributed"
   ]
  },
  {
   "cell_type": "markdown",
   "metadata": {},
   "source": [
    "#### Commands for git and GitHub usage<a class=\"anchor\" id=\"versioning_commands\"></a>\n",
    "Before using git, you have to set up personalized information with\n",
    "```bash\n",
    "git config --global user.name '[name]'\n",
    "git config --global user.email '[email address]'\n",
    "```\n",
    "After that, you can navigate to an **existing folder** or create a **new one** in a way of your choice. In the terminal/command prompt you now move to this folder and can **initialize** it via\n",
    "```bash\n",
    "git init\n",
    "```\n",
    "to a folder versioned with git.\n",
    "\n",
    "Another possibility is to clone an **online available repository** to your own computer - for example from GitHub. To do this, use the following command:\n",
    "```bash\n",
    "git clone [url]\n",
    "```\n",
    "\n",
    "The **current state of the repository** can now be displayed by calling\n",
    "```bash\n",
    "git status\n",
    "```\n",
    "in the directory. This means that the status of the local copy, whether there have been changes or updates, is displayed for the folder and the files. We now assume that **files have been newly added** to the directory or existing files have been **modified**. These files are now to be versioned, i.e. added to the repository. To do this,\n",
    "```bash\n",
    "git add [filenames]\n",
    "```\n",
    "is called by specifying the explicit filenames or by using an abbreviated name using ``*`` (You can use ``*`` and ``.`` to add all files). This way the mentioned files are added to the **staging area**. Staging can be undone by git.\n",
    "```bash\n",
    "git reset [filenames]\n",
    "```\n",
    "In the *local* repository, these **changes have to be committed**. Ideally this is done in combination with a comment on what has been added/changed. Git provides this command for this purpose:\n",
    "```bash\n",
    "git commit -m '[comment on updates]'\n",
    "```\n",
    "Up to this point, everything has happened in the local environment. Assuming that we are working with an online repository (for example, GitHub) that also involves other developers, these committed, locally versioned changes are now to be **transferred to the remote repository**.\n",
    "```bash\n",
    "git push [alias] [branch]\n",
    "```\n",
    "As an alias, only the default name given by git to the server from which the repository was cloned is relevant for us at this point: ``origin``. For further information about aliases, please refer to [[9]](#git2021a) and [[10]](#git2021b). A branch can be understood as an independent development line in the project. It is therefore a new combination of working directory, staging area and project history, where new commits are only stored in the history of the active branch. The following graph illustrates this process."
   ]
  },
  {
   "cell_type": "markdown",
   "metadata": {},
   "source": [
    "<div style=\"width:image width px; font-size:75%; text-align:right;\">\n",
    "    <img src=\"img/branches.png\" width=\"500\" style=\"padding-bottom:0.2em;\" />\n",
    "    <figcaption>Branches in VCS [11]</figcaption>\n",
    "</div>"
   ]
  },
  {
   "cell_type": "markdown",
   "metadata": {},
   "source": [
    "More on branching can be found in [[12]](#git2021c). The primary branch in git or GitHub is called ``main`` (formerly also ``master``) by default. This means that the command\n",
    "```bash\n",
    "git push origin main\n",
    "```\n",
    "transfers the locally committed changes to the remote repository."
   ]
  },
  {
   "cell_type": "markdown",
   "metadata": {},
   "source": [
    "##### Exercises\n",
    "1. Log in to GitHub with your account and create a new repository with an arbitrary name. Include a gitignore for Python and a ReadMe file when you create it.\n",
    "2. Search the repository on GitHub for the URL to clone the directory. Use this URL to download and set up a local copy of the main branch on your machine.\n",
    "3. Using the Jupyter Browser, navigate to the repository and create a Jupyter Notebook. This notebook should now exist as an ``.ipynb`` file in the folder. Add the blank notebook directly to the repository and commit this first version with git, for example with the comment \"initial, blank version\".\n",
    "4. Push the locally staged and committed notebook to the remote repository with git command on the terminal and observe the changes on GitHub in the browser."
   ]
  },
  {
   "cell_type": "markdown",
   "metadata": {},
   "source": [
    "### References<a class=\"anchor\" id=\"references\"></a>"
   ]
  },
  {
   "cell_type": "markdown",
   "metadata": {},
   "source": [
    "[1]<a class=\"anchor\" id=\"downey2015\"></a> Downey, A. (2015). *Think Python - How to think like a computer scientist* (2nd ed.). Green Tea Press. Retrieved 2020-03-26 from http://greenteapress.com/thinkpython2/thinkpython2.pdf"
   ]
  },
  {
   "cell_type": "markdown",
   "metadata": {},
   "source": [
    "[2]<a class=\"anchor\" id=\"python2020a\"></a> The Python Standard Library (2020). Collections. Retrieved 2020-03-31 from https://docs.python.org/3/library/collections.html"
   ]
  },
  {
   "cell_type": "markdown",
   "metadata": {},
   "source": [
    "[3]<a class=\"anchor\" id=\"w3schools2020\"></a> w3schools (2020). Python lists. Retrieved 2020-03-31 from https://www.w3schools.com/python/python_lists.asp"
   ]
  },
  {
   "cell_type": "markdown",
   "metadata": {},
   "source": [
    "[4]<a class=\"anchor\" id=\"downey2015\"></a> Mohan, M. (2017). Mutable vs Immutable Objects in Python. *Medium*. Retrieved 2020-03-26 from https://medium.com/@meghamohan/mutable-and-immutable-side-of-python-c2145cf72747"
   ]
  },
  {
   "cell_type": "markdown",
   "metadata": {},
   "source": [
    "[5]<a class=\"anchor\" id=\"python2020b\"></a> The Python Standard Library (2020). Built-in types. Retrieved 2020-03-31 from https://docs.python.org/2.7/library/stdtypes.html#frozenset"
   ]
  },
  {
   "cell_type": "markdown",
   "metadata": {},
   "source": [
    "[6]<a class=\"anchor\" id=\"aroutiounian2013\"></a> Aroutiounian, E., Machavity, Pieters, M. (2013). Why is the order in dictionaries and sets arbitrary? *Stack Overflow*. Retrieved 2020-03-31 from https://stackoverflow.com/questions/15479928/why-is-the-order-in-dictionaries-and-sets-arbitrary/15479974#15479974"
   ]
  },
  {
   "cell_type": "markdown",
   "metadata": {},
   "source": [
    "[7]<a class=\"anchor\" id=\"reitz2016\"></a> Reitz, K., & Schlusser, T. (2016). *The Hitchhiker's Guide to Python: Best Practices for Development*. O'Reilly Media, Inc."
   ]
  },
  {
   "cell_type": "markdown",
   "metadata": {},
   "source": [
    "[8]<a class=\"anchor\" id=\"learnpython2020\"></a> learnpython.org (2020). Modules and Packages. Retrieved 2020-03-26 from https://www.learnpython.org/en/Modules_and_Packages"
   ]
  },
  {
   "cell_type": "markdown",
   "metadata": {},
   "source": [
    "[9]<a class=\"anchor\" id=\"git2021a\"></a> git (2021). 2.5 Git Grundlagen - Mit Remotes arbeiten. Retrieved 2021-03-25 from https://git-scm.com/book/de/v2/Git-Grundlagen-Mit-Remotes-arbeiten"
   ]
  },
  {
   "cell_type": "markdown",
   "metadata": {},
   "source": [
    "[10]<a class=\"anchor\" id=\"git2021b\"></a> git (2021). 2.7 Git Grundlagen - Git Aliases. Retrieved 2021-03-25 from https://git-scm.com/book/de/v2/Git-Grundlagen-Git-Aliases"
   ]
  },
  {
   "cell_type": "markdown",
   "metadata": {},
   "source": [
    "[11]<a class=\"anchor\" id=\"noble2021\"></a> Noble Desktop (2021). Git Branches: List, Create, Switch to, Merge, Push, & Delete. Retrieved 2021-03-25 from https://www.nobledesktop.com/learn/git/git-branches"
   ]
  },
  {
   "cell_type": "markdown",
   "metadata": {},
   "source": [
    "[12]<a class=\"anchor\" id=\"git2021c\"></a> git (2021). 3.1 Git Branching - Branches auf einen Blick. Retrieved 2021-03-25 from https://git-scm.com/book/de/v2/Git-Branching-Branches-auf-einen-Blick"
   ]
  }
 ],
 "metadata": {
  "kernelspec": {
   "display_name": "Python 3",
   "language": "python",
   "name": "python3"
  },
  "language_info": {
   "codemirror_mode": {
    "name": "ipython",
    "version": 3
   },
   "file_extension": ".py",
   "mimetype": "text/x-python",
   "name": "python",
   "nbconvert_exporter": "python",
   "pygments_lexer": "ipython3",
   "version": "3.9.2"
  },
  "varInspector": {
   "cols": {
    "lenName": 16,
    "lenType": 16,
    "lenVar": 40
   },
   "kernels_config": {
    "python": {
     "delete_cmd_postfix": "",
     "delete_cmd_prefix": "del ",
     "library": "var_list.py",
     "varRefreshCmd": "print(var_dic_list())"
    },
    "r": {
     "delete_cmd_postfix": ") ",
     "delete_cmd_prefix": "rm(",
     "library": "var_list.r",
     "varRefreshCmd": "cat(var_dic_list()) "
    }
   },
   "types_to_exclude": [
    "module",
    "function",
    "builtin_function_or_method",
    "instance",
    "_Feature"
   ],
   "window_display": false
  }
 },
 "nbformat": 4,
 "nbformat_minor": 4
}
